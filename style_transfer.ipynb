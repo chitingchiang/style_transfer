{
  "nbformat": 4,
  "nbformat_minor": 0,
  "metadata": {
    "colab": {
      "name": "Untitled0.ipynb",
      "version": "0.3.2",
      "provenance": [],
      "include_colab_link": true
    },
    "kernelspec": {
      "name": "python3",
      "display_name": "Python 3"
    }
  },
  "cells": [
    {
      "cell_type": "markdown",
      "metadata": {
        "id": "view-in-github",
        "colab_type": "text"
      },
      "source": [
        "<a href=\"https://colab.research.google.com/github/chitingchiang/style_transfer/blob/master/style_transfer.ipynb\" target=\"_parent\"><img src=\"https://colab.research.google.com/assets/colab-badge.svg\" alt=\"Open In Colab\"/></a>"
      ]
    },
    {
      "cell_type": "code",
      "metadata": {
        "id": "zVGPBGh04J0n",
        "colab_type": "code",
        "colab": {
          "base_uri": "https://localhost:8080/",
          "height": 34
        },
        "outputId": "b3d5914e-4d16-4192-cd41-a4f818490903"
      },
      "source": [
        "import numpy as np\n",
        "import matplotlib.pyplot as pt\n",
        "import matplotlib.style\n",
        "matplotlib.style.use('default')\n",
        "%matplotlib inline\n",
        "import tensorflow as tf\n",
        "from keras.applications.vgg16 import VGG16"
      ],
      "execution_count": 3,
      "outputs": [
        {
          "output_type": "stream",
          "text": [
            "Using TensorFlow backend.\n"
          ],
          "name": "stderr"
        }
      ]
    },
    {
      "cell_type": "code",
      "metadata": {
        "id": "zKPQpYjQ7fio",
        "colab_type": "code",
        "colab": {
          "base_uri": "https://localhost:8080/",
          "height": 139
        },
        "outputId": "6a988758-0d50-4fcb-d42b-62f18d8876ad"
      },
      "source": [
        "model = VGG16(weights='imagenet', include_top=False)\n",
        "model.count_params()"
      ],
      "execution_count": 4,
      "outputs": [
        {
          "output_type": "stream",
          "text": [
            "WARNING:tensorflow:From /usr/local/lib/python3.6/dist-packages/tensorflow/python/framework/op_def_library.py:263: colocate_with (from tensorflow.python.framework.ops) is deprecated and will be removed in a future version.\n",
            "Instructions for updating:\n",
            "Colocations handled automatically by placer.\n",
            "Downloading data from https://github.com/fchollet/deep-learning-models/releases/download/v0.1/vgg16_weights_tf_dim_ordering_tf_kernels_notop.h5\n",
            "58892288/58889256 [==============================] - 1s 0us/step\n"
          ],
          "name": "stdout"
        },
        {
          "output_type": "execute_result",
          "data": {
            "text/plain": [
              "14714688"
            ]
          },
          "metadata": {
            "tags": []
          },
          "execution_count": 4
        }
      ]
    },
    {
      "cell_type": "code",
      "metadata": {
        "id": "rua1qD7540ED",
        "colab_type": "code",
        "colab": {}
      },
      "source": [
        "class BuildGraph:\n",
        "    def __init__(n_pix=512, n_channel=3):\n",
        "        self.content_img = tf.placeholder(dtype=tf.float32, shape=(1, n_pix, n_pix, n_channel))\n",
        "        self.style_img = tf.placeholder(dtype=tf.float32, shape=(1, n_pix, n_pix, n_channel))\n",
        "        self.combination_img = tf.Variable(tf.random.uniform(shape=(1, n_pix, n_pix, n_channel), minval=0, maxval=255)-127.5)\n",
        "        \n",
        "        self.content_weight = tf.placeholder(dtype=tf.float32, shape=())\n",
        "        self.style_weight = tf.placeholder(dtype=tf.float32, shape=())\n",
        "        self.variation_weight = tf.placeholder(dtype=tf.float32, shape=())\n",
        "        \n",
        "        self.lr_rate = tf.placeholder(dtype=tf.float32, shape=())\n",
        "        \n",
        "        tot_img = tf.concat([self.content_img, self.style_img, self.combination_img], axis=0)\n",
        "        \n",
        "        model = VGG16(weights='imagenet', include_top=False, input_tensor=tot_img)\n",
        "        layers = dict([(layer.name, layer.output) for layer in model.layers])\n",
        "        \n",
        "        content_feature_layers = ['block2_conv2']\n",
        "        content_loss = 0\n",
        "        for layer_name in content_feature_layers:\n",
        "            layer_features = layers[layer_name]\n",
        "            content_loss += tf.reduce_sum(tf.square(layer_features[0, :, :, :]-layer_features[1, :, :, :]))\n",
        "        content_loss = content_loss*self.content_weight\n",
        "        \n",
        "        style_feature_layers = ['block1_conv2', 'block2_conv2', 'block3_conv3', 'block4_conv3', 'block5_conv3']\n",
        "        style_loss_constant = self.style_weight/((2*n_channel*n_pix**2)**2)/len(style_feature_layers)\n",
        "        style_loss = 0\n",
        "        for layer_name in style_feature_layers:\n",
        "            layer_features = layers[layer_name]\n",
        "            style_matrix = gram_matrix(layer_features[1, :, :, :])\n",
        "            combination_matrix = gram_matrix(layer_features[2, :, :, :])\n",
        "            style_loss = style_loss+tf.reduce_sum(tf.square(style_matrix-combination_matrix))\n",
        "            \n",
        "            return backend.sum(backend.square(S - C)) / (4. * (channels ** 2) * (size ** 2))\n",
        "        style_loss = style_loss*style_loss_constant\n",
        "        \n",
        "        variation_loss = (tf.square(self.combination_img[:, :n_pix-1, :n_pix-1, :]\n",
        "                                    -self.combination_img[:, 1:, :n_pix-1, :])+\n",
        "                          tf.square(self.combination_img[:, :n_pix-1, :n_pix-1, :]\n",
        "                                    -self.combination_img[:, :n_pix-1, 1:, :]))*self.variation_weight\n",
        "        \n",
        "        self.loss = content_loss+style_loss+variation_loss\n",
        "\n",
        "        self.train_step = tf.train.AdamOptimizer(self.lr_rate).minimize(self.loss, var_list=[self.combination_img])\n",
        "        \n",
        "    def gram_matrix(x):\n",
        "        x = tf.transpose(x, perm=(2, 0, 1))\n",
        "        x = tf.reshape(x, (x.shape[0], -1))\n",
        "        gram = tf.matmul(x, tf.transpose(x))\n",
        "        return gram"
      ],
      "execution_count": 0,
      "outputs": []
    },
    {
      "cell_type": "code",
      "metadata": {
        "id": "G6EE5mw6ASLX",
        "colab_type": "code",
        "colab": {}
      },
      "source": [
        ""
      ],
      "execution_count": 0,
      "outputs": []
    }
  ]
}